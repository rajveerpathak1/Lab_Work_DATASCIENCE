{
 "cells": [
  {
   "cell_type": "markdown",
   "id": "1287ac15-6919-48bc-bf5b-2274ab5e1b1f",
   "metadata": {},
   "source": [
    "# Data Science Tools and Ecosystem"
   ]
  },
  {
   "cell_type": "markdown",
   "id": "5bb487d5-c747-41ef-98bc-0936283e49fa",
   "metadata": {},
   "source": [
    "## In this notebook, Data Science Tools and Ecosystem are summarized."
   ]
  },
  {
   "cell_type": "markdown",
   "id": "e2a9f7e4-39d7-4a12-9c78-ef564a2c2ea1",
   "metadata": {},
   "source": [
    "###  Some of the popular languages that Data Scientists use are:\n",
    "   1.Python\n",
    "   2.SQL\n",
    "   3.R\n",
    "   4.JAVA\n",
    "   5.SCALA"
   ]
  },
  {
   "cell_type": "markdown",
   "id": "cd7ca4fd-ed20-4d3a-a059-2482808577e1",
   "metadata": {},
   "source": [
    "### Some of the commonly used libraries used by Data Scientists include:\n",
    "   1.Numpy\n",
    "   2.Ggplot\n",
    "   3.dplyr\n",
    "   4.caret"
   ]
  },
  {
   "cell_type": "markdown",
   "id": "4a1fcbc9-89c8-4296-9c5b-8e9f7fd8a9b6",
   "metadata": {},
   "source": [
    "## Exercise 6 - Data Science Tools\r\n",
    "\r\n",
    "Create a markdown cell with a table of Data Science tools.\r\n",
    "\r\n",
    "| Data Science Tools           |\r\n",
    "|------------------------------|\r\n",
    "| Jupyter Notebook             |\r\n",
    "| RStudio                      |\r\n",
    "| Apache Zeppelin              |\r\n"
   ]
  },
  {
   "cell_type": "markdown",
   "id": "85156098-059c-4a63-b1dd-b638b6b6b948",
   "metadata": {},
   "source": [
    "### Exercise 7 - Arithmetic Expression Examples\r\n",
    "\r\n",
    "Below are a few examples of evaluating arithmetic expressions in Python.\r\n"
   ]
  },
  {
   "cell_type": "code",
   "execution_count": 13,
   "id": "a01b974f-e031-4d91-ba45-26940d0792e3",
   "metadata": {},
   "outputs": [
    {
     "name": "stdout",
     "output_type": "stream",
     "text": [
      "17\n"
     ]
    }
   ],
   "source": [
    "# This is a simple arithmetic expression to multiply then add integers.\n",
    "result = (3 * 4) + 5\n",
    "print(result)\n"
   ]
  },
  {
   "cell_type": "code",
   "execution_count": 15,
   "id": "098d9d2c-05d0-48a5-a613-396b3f594234",
   "metadata": {},
   "outputs": [
    {
     "name": "stdout",
     "output_type": "stream",
     "text": [
      "3.3333333333333335\n"
     ]
    }
   ],
   "source": [
    "# This will convert 200 minutes to hours by dividing by 60.\n",
    "minutes = 200\n",
    "hours = minutes / 60\n",
    "print(hours)\n"
   ]
  },
  {
   "cell_type": "markdown",
   "id": "99afdf69-b328-42a5-87b5-126225be511b",
   "metadata": {},
   "source": [
    "**Objectives:**\r\n",
    "\r\n",
    "- List popular languages for Data Science.\r\n",
    "- Introduce basic arithmetic operations in Python.\r\n",
    "- Demonstrate conversion of units (minutes to hours) using Python.\r\n",
    "- Illustrate markdown cell usage for documentation.\r\n"
   ]
  },
  {
   "cell_type": "markdown",
   "id": "8ba2b342-bcb0-4640-b759-46ebbe09ad2f",
   "metadata": {},
   "source": [
    "## Author\r\n",
    "\r\n",
    "Rajveer Pathak\r\n"
   ]
  },
  {
   "cell_type": "code",
   "execution_count": null,
   "id": "e69c8bb5-41c7-4863-86dd-ba82d403234e",
   "metadata": {},
   "outputs": [],
   "source": []
  }
 ],
 "metadata": {
  "kernelspec": {
   "display_name": "Python 3 (ipykernel)",
   "language": "python",
   "name": "python3"
  },
  "language_info": {
   "codemirror_mode": {
    "name": "ipython",
    "version": 3
   },
   "file_extension": ".py",
   "mimetype": "text/x-python",
   "name": "python",
   "nbconvert_exporter": "python",
   "pygments_lexer": "ipython3",
   "version": "3.12.4"
  }
 },
 "nbformat": 4,
 "nbformat_minor": 5
}
